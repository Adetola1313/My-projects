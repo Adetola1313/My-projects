{
 "cells": [
  {
   "cell_type": "markdown",
   "metadata": {
    "deletable": false
   },
   "source": [
    "## UFCFVQ-15-M Programming for Data Science (Spring 2023)"
   ]
  },
  {
   "cell_type": "markdown",
   "metadata": {
    "deletable": false
   },
   "source": [
    "<p style=\"color:red; font-weight:bold; font-size:xx-small\">OVERALL COURSEWORK MARK: ___%</p>"
   ]
  },
  {
   "cell_type": "markdown",
   "metadata": {
    "deletable": false
   },
   "source": [
    "### GitLab link submission, README.md file and Git commit messages\n",
    "<p style=\"color:red; font-weight:bold; font-size:xx-small\">MARK: __%</p>\n",
    "<p style=\"color:red; font-weight:bold; font-size:xx-small\">FEEDBACK: </p>"
   ]
  },
  {
   "cell_type": "markdown",
   "metadata": {
    "deletable": false
   },
   "source": [
    "## Python Programming (Task B)\n",
    "\n",
    "## Student Id: 22063018"
   ]
  },
  {
   "cell_type": "markdown",
   "metadata": {
    "deletable": false
   },
   "source": [
    "### Requirement FR1 - Develop a function to find the geometric mean"
   ]
  },
  {
   "cell_type": "code",
   "execution_count": null,
   "metadata": {
    "deletable": false
   },
   "outputs": [],
   "source": [
    "#develop a function to find the geometric mean\n",
    "def geometric_mean(lst):\n",
    "    \"\"\"Returns the geometric mean of the given list of numbers.\"\"\"\n",
    "    product = 1\n",
    "    n = len(lst)\n",
    "    for num in lst:\n",
    "        product *= num\n",
    "    return pow(product, 1/n)\n",
    "\n",
    " #to test function\n",
    "Triz= [64, 9, 90, 28, 46, 95, 34, 28, 86, 62, 14, 77, 99, 80, 99, 56, 79, 37, 74, 6, 67, 32, 5, 94, 53, 62, 19, 44, 16, 74, 92, 60, 74, 80, 10, 43, 51, 41, 91, 41, 27, 40, 48, 27, 13, 41, 13, 28, 17, 64]\n",
    "print(geometric_mean(Triz))\n",
    "\n",
    "\n"
   ]
  },
  {
   "cell_type": "markdown",
   "metadata": {
    "deletable": false
   },
   "source": [
    "<p style=\"color:red; font-weight:bold; font-size:xx-small\">MARK: __%</p>\n",
    "<p style=\"color:red; font-weight:bold; font-size:xx-small\">FEEDBACK: </p>"
   ]
  },
  {
   "cell_type": "markdown",
   "metadata": {
    "deletable": false
   },
   "source": [
    "### Requirement FR2 - Develop a function to read a single column from a CSV file"
   ]
  },
  {
   "cell_type": "code",
   "execution_count": null,
   "metadata": {
    "deletable": false
   },
   "outputs": [],
   "source": [
    "def read_csv_column(filename, column_number, convert_to_numbers=False):\n",
    "    data = []\n",
    "    #column_name = list()\n",
    "    with open(filename, 'r') as file:\n",
    "        headers = file.readline().split(',')\n",
    "        \n",
    "        column_name = headers[column_number]\n",
    "        \n",
    "        for row in file:\n",
    "            reader = row.split(',')\n",
    "            value = reader[column_number]\n",
    "            if convert_to_numbers == True:\n",
    "                value = float(value)\n",
    "            data.append(value)\n",
    "    return data, column_name\n",
    "\n",
    "#test the function using Task1.csv file:\n",
    "data, column_name = read_csv_column('task1.csv', 2, True)\n",
    "print(column_name)\n",
    "print(data)\n",
    "\n",
    "\n",
    "\n",
    "\n"
   ]
  },
  {
   "cell_type": "markdown",
   "metadata": {
    "deletable": false
   },
   "source": [
    "<p style=\"color:red; font-weight:bold; font-size:xx-small\">MARK: __%</p>\n",
    "<p style=\"color:red; font-weight:bold; font-size:xx-small\">FEEDBACK: </p>"
   ]
  },
  {
   "cell_type": "markdown",
   "metadata": {
    "deletable": false
   },
   "source": [
    "### Requirement FR3 - Develop a function to read CSV data from a file into memory"
   ]
  },
  {
   "cell_type": "code",
   "execution_count": null,
   "metadata": {
    "deletable": false
   },
   "outputs": [],
   "source": [
    "def read_csv_data(filename, conversions):\n",
    "    with open(filename, 'r') as f:\n",
    "        lines = f.readlines()\n",
    "    headers = lines[0].strip().split(',')\n",
    "    data = {header: [] for header in headers}\n",
    "    for line in lines[1:]:\n",
    "        values = line.strip().split(',')\n",
    "        for i, value in enumerate(values):\n",
    "            if conversions[i]:\n",
    "                value = float(value)\n",
    "            data[headers[i]].append(value)\n",
    "    return data\n",
    "\n",
    "#function to read the task1.csv file:\n",
    "data = read_csv_data('task1.csv', [1,1,1,1,1,1,1,1,1,1])\n",
    "print(data)\n"
   ]
  },
  {
   "cell_type": "markdown",
   "metadata": {
    "deletable": false
   },
   "source": [
    "<p style=\"color:red; font-weight:bold; font-size:xx-small\">MARK: __%</p>\n",
    "<p style=\"color:red; font-weight:bold; font-size:xx-small\">FEEDBACK: </p>"
   ]
  },
  {
   "cell_type": "markdown",
   "metadata": {
    "deletable": false
   },
   "source": [
    "### Requirement FR4 - Develop a function to calculate the Spearman’s Rank Correlation Coefficient for two named columns"
   ]
  },
  {
   "cell_type": "code",
   "execution_count": null,
   "metadata": {
    "deletable": false
   },
   "outputs": [],
   "source": [
    "def calculate_spearman_rank_correlation(list1, list2):\n",
    "    \"\"\"\n",
    "    Calculates the Spearman's Rank Correlation Coefficient for two lists of data.\n",
    "    \n",
    "    Parameters:\n",
    "        list1 (list): The first list of data.\n",
    "        list2 (list): The second list of data.\n",
    "    \n",
    "    Returns:\n",
    "        float: The calculated Spearman's Rank Correlation Coefficient value.\n",
    "    \"\"\"\n",
    "    # First, calculate the ranks of the data values in each list\n",
    "    ranks1 = {val: i+1 for i, val in enumerate(sorted(set(list1)))}\n",
    "    ranks2 = {val: i+1 for i, val in enumerate(sorted(set(list2)))}\n",
    "\n",
    "    # Calculate the difference between the ranks of each corresponding data value in the two lists\n",
    "    differences = [ranks1[list1[i]] - ranks2[list2[i]] for i in range(len(list1))]\n",
    "    \n",
    "    # Calculate the Spearman's Rank Correlation Coefficient\n",
    "    n = len(list1)\n",
    "    coefficient = 1 - (6 * sum([d**2 for d in differences])) / (n * (n**2 - 1))\n",
    "    \n",
    "    return coefficient\n",
    "\n",
    "#function to test\n",
    "\n",
    "list1 = [64, 9, 90, 28, 46, 95, 34, 28, 86, 62, 14, 77, 99, 80, 99, 56, 79, 37, 74, 6, 67, 32, 5, 94, 53, 62, 19, 44, 16, 74, 92, 60, 74, 80, 10, 43, 51, 41, 91, 41, 27, 40, 48, 27, 13, 41, 13, 28, 17, 64]\n",
    "list2 = [77, 74, 73, 80, 52, 62, 39, 29, 82, 85, 63, 56, 65, 65, 53, 70, 64, 62, 78, 50, 64, 25, 41, 56, 54, 63, 34, 50, 40, 34, 49, 48, 22, 43, 64, 29, 37, 33, 53, 37, 50, 35, 62, 34, 41, 36, 30, 28, 50, 42]\n",
    "\n",
    "coefficient = calculate_spearman_rank_correlation(list1, list2)\n",
    "print(coefficient)\n",
    "\n",
    "\n"
   ]
  },
  {
   "cell_type": "code",
   "execution_count": null,
   "metadata": {},
   "outputs": [],
   "source": [
    "def calculate_arithmetic_mean(n):\n",
    "    total = sum(n)\n",
    "    count = len(n)\n",
    "    mean = total / count\n",
    "    return mean\n",
    "\n",
    "# Test the function\n",
    "Triz = [64, 9, 90, 28, 46, 95, 34, 28, 86, 62, 14, 77, 99, 80, 99, 56, 79, 37, 74, 6, 67, 32, 5, 94, 53, 62, 19, 44, 16, 74, 92, 60, 74, 80, 10, 43, 51, 41, 91, 41, 27, 40, 48, 27, 13, 41, 13, 28, 17, 64]\n",
    "mean = calculate_arithmetic_mean(Triz)\n",
    "print(\"Arithmetic Mean:\", mean)\n"
   ]
  },
  {
   "cell_type": "markdown",
   "metadata": {
    "deletable": false
   },
   "source": [
    "<p style=\"color:red; font-weight:bold; font-size:xx-small\">MARK: __%</p>\n",
    "<p style=\"color:red; font-weight:bold; font-size:xx-small\">FEEDBACK: </p>"
   ]
  },
  {
   "cell_type": "markdown",
   "metadata": {
    "deletable": false
   },
   "source": [
    "### Requirement FR5 - Develop a function to generate a set of Spearman’s Rank Correlation Coefficients for a given data file "
   ]
  },
  {
   "cell_type": "code",
   "execution_count": null,
   "metadata": {
    "deletable": false
   },
   "outputs": [],
   "source": [
    "def calculate_correlations(data_dict):\n",
    "\n",
    "    # calculate correlation coefficients\n",
    "    columns = list(data_dict.keys())\n",
    "    correlations = []\n",
    "    for i in range(len(columns)):\n",
    "        for j in range(i+1, len(columns)):\n",
    "            column1 = data_dict[columns[i]]\n",
    "            column2 = data_dict[columns[j]]\n",
    "            coefficient = calculate_spearman_rank_correlation(column1, column2)\n",
    "            correlations.append((columns[i], columns[j], coefficient))\n",
    "\n",
    "    return correlations\n",
    "\n",
    "data = read_csv_data('task1.csv', [1,1,1,1,1,1,1,1,1,1])\n",
    "coefficients = calculate_correlations(data)\n",
    "print(coefficients)"
   ]
  },
  {
   "cell_type": "markdown",
   "metadata": {
    "deletable": false
   },
   "source": [
    "<p style=\"color:red; font-weight:bold; font-size:xx-small\">MARK: __%</p>\n",
    "<p style=\"color:red; font-weight:bold; font-size:xx-small\">FEEDBACK: </p>"
   ]
  },
  {
   "cell_type": "markdown",
   "metadata": {
    "deletable": false
   },
   "source": [
    "### Requirement FR6 - Develop a function to print a custom table"
   ]
  },
  {
   "cell_type": "code",
   "execution_count": null,
   "metadata": {
    "deletable": false
   },
   "outputs": [],
   "source": [
    "def print_custom_table(coefficients, border_char, columns_to_include):\n",
    "    print(border_char * 80)\n",
    "    print(f\"{border_char} {'Column 1':<20} {border_char} {'Column 2':<20} {border_char} {'Coefficient':<20} {border_char}\")\n",
    "    print(border_char * 80)\n",
    "    for c1, c2, coefficient in coefficients:\n",
    "        if c1 in columns_to_include and c2 in columns_to_include:\n",
    "            print(f\"{border_char} {c1:<20} {border_char} {c2:<20} {border_char} {coefficient:<20} {border_char}\")\n",
    "    print(border_char * 80)\n",
    "\n",
    "data = read_csv_data('task1.csv', [1,1,1,1,1,1,1,1,1,1])\n",
    "coefficients = calculate_correlations(data)\n",
    "columns_to_include = ['age', 'pop', 'share_white']\n",
    "border_char = \"$\"\n",
    "table = print_custom_table(coefficients, border_char, columns_to_include)\n",
    "print(table)"
   ]
  },
  {
   "cell_type": "markdown",
   "metadata": {
    "deletable": false
   },
   "source": [
    "<p style=\"color:red; font-weight:bold; font-size:xx-small\">MARK: __%</p>\n",
    "<p style=\"color:red; font-weight:bold; font-size:xx-small\">FEEDBACK: </p>"
   ]
  },
  {
   "cell_type": "markdown",
   "metadata": {
    "deletable": false
   },
   "source": [
    "# Coding Standards\n",
    "<p style=\"color:red; font-weight:bold; font-size:xx-small\">MARK: __%</p>\n",
    "<p style=\"color:red; font-weight:bold; font-size:xx-small\">FEEDBACK: </p>"
   ]
  },
  {
   "cell_type": "markdown",
   "metadata": {
    "deletable": false
   },
   "source": [
    "### Process Development Report for Task B\n"
   ]
  },
  {
   "cell_type": "markdown",
   "metadata": {},
   "source": [
    "### INTRODUCTION\n",
    "\n",
    "The development process for this task involved several step to develop a set of functions to read, analyse, and output data from a CSV file. Specifically, the functions were designed to calculate the Spearman’s Rank Correlation Coefficient between all pairs of columns in a CSV file, and to output a custom table displaying a subset of these correlation coefficients.\n",
    "\n",
    "### PROCESS\n",
    "\n",
    "Development Process:\n",
    "\tFunction to find the geometric mean: The first function developed was to find the geometric mean of a Python list. The function was designed to take a list as input and return the geometric mean. The function was tested using the data file called task1.csv,and was found to work correctly.\n",
    "   Function to read a single specified column of data from a CSV file: The next function developed was to read a single specified column of data from a CSV file. The function was designed to take three parameters: the data file name, a column number, and a conversion indicator. The function was tested using the data file called task1.csv,and was found to work correctly.\n",
    "\tFunction to read CSV data from a file into memory: The third function developed was to read all columns of data from a CSV file and add them to a dictionary data structure. The function was designed to take two parameters: the data file name and a list of conversion indicators. The function made use of the previously developed function to read a single specified column of data from a CSV file.The function was tested using the data file called task1.csv,and was found to work correctly.\n",
    "\tFunction to calculate the Spearman’s Rank Correlation Coefficient: The fourth function developed was to calculate the Spearman’s Rank Correlation Coefficient for two lists of data. The function was designed to take two lists of data (of equal length) as input, and return the calculated coefficient value. The function was tested using the data file called task1.csv,and was found to work correctly.\n",
    "\tFunction to generate a set of Spearman’s Rank Correlation Coefficients: The fifth function developed was to generate a set of Spearman’s Rank Correlation Coefficients for a given data file. The function made use of the previously developed function to calculate the Spearman’s Rank Correlation Coefficient for two lists of data. The function was tested using the data file called task1.csv,and was found to work correctly.\n",
    "\tFunction to print a custom table: The final function developed was to print a custom table of Spearman’s Rank Correlation Coefficients for a subset of the column pairs generated in the previous function. The function was designed to take three parameters: a list of correlation coefficient tuples, a border character to use, and which columns to include. The function made use of the Python string formatting capabilities to improve the readability of the output. The function was tested using the data file called task1.csv. \n",
    "\n",
    "### CONCLUSION\n",
    " In conclusion, a set of functions was successfully developed to read, analyze, and output data from a CSV file. The functions were tested using provided CSV files and manually created data lists, and were found to work correctly. The functions developed provide a foundation for future data analysis projects.\n"
   ]
  },
  {
   "cell_type": "markdown",
   "metadata": {
    "deletable": false
   },
   "source": [
    "<p style=\"color:red; font-weight:bold; font-size:xx-small\">MARK: __%</p>\n",
    "<p style=\"color:red; font-weight:bold; font-size:xx-small\">FEEDBACK: </p>"
   ]
  }
 ],
 "metadata": {
  "kernelspec": {
   "display_name": "Python 3 (ipykernel)",
   "language": "python",
   "name": "python3"
  },
  "language_info": {
   "codemirror_mode": {
    "name": "ipython",
    "version": 3
   },
   "file_extension": ".py",
   "mimetype": "text/x-python",
   "name": "python",
   "nbconvert_exporter": "python",
   "pygments_lexer": "ipython3",
   "version": "3.9.13"
  }
 },
 "nbformat": 4,
 "nbformat_minor": 4
}
