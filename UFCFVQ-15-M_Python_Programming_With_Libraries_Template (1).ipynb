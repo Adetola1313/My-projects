{
 "cells": [
  {
   "cell_type": "markdown",
   "metadata": {
    "deletable": false
   },
   "source": [
    "## UFCFVQ-15-M Programming for Data Science (Spring 2023)\n",
    "# Python Programming with Libraries (Task C)\n",
    "\n",
    "## Student Id: 22063018"
   ]
  },
  {
   "cell_type": "markdown",
   "metadata": {
    "deletable": false
   },
   "source": [
    "### Requirement FR7 - Read CSV data from two files and merge it into a single Data Frame "
   ]
  },
  {
   "cell_type": "code",
   "execution_count": null,
   "metadata": {
    "deletable": false
   },
   "outputs": [],
   "source": [
    "import pandas as pd\n",
    "\n",
    "#Read CSV data from the two files \n",
    "cd1 = pd.read_csv('task2a.csv')\n",
    "\n",
    "cd2 = pd.read_csv('task2b.csv')\n",
    "\n",
    "# Merge the two data frames based on the 'id_student'\n",
    "merged_cd = pd.merge(cd1, cd2, on='id_student')\n",
    "\n",
    "# Print the merged data frame\n",
    "merged_cd\n"
   ]
  },
  {
   "cell_type": "markdown",
   "metadata": {
    "deletable": false
   },
   "source": [
    "<p style=\"color:red; font-weight:bold; font-size:xx-small\">MARK: __%</p>\n",
    "<p style=\"color:red; font-weight:bold; font-size:xx-small\">FEEDBACK: </p>"
   ]
  },
  {
   "cell_type": "markdown",
   "metadata": {
    "deletable": false
   },
   "source": [
    "### Requirement FR8 - Clean the merged data"
   ]
  },
  {
   "cell_type": "code",
   "execution_count": null,
   "metadata": {
    "deletable": false
   },
   "outputs": [],
   "source": [
    "import pandas as pd\n",
    "\n",
    "# Remove any rows with missing values\n",
    "merged_cd = merged_cd.dropna()\n",
    "\n",
    "#merged_cd.columns\n",
    "\n",
    "# Remove columns that are not needed\n",
    "merged_cd = merged_cd.drop(['region', 'final_result', 'highest_education'], axis=1)\n",
    "\n",
    "# Print the cleaned merged data\n",
    "merged_cd\n"
   ]
  },
  {
   "cell_type": "markdown",
   "metadata": {
    "deletable": false
   },
   "source": [
    "<p style=\"color:red; font-weight:bold; font-size:xx-small\">MARK: __%</p>\n",
    "<p style=\"color:red; font-weight:bold; font-size:xx-small\">FEEDBACK: </p>"
   ]
  },
  {
   "cell_type": "markdown",
   "metadata": {
    "deletable": false
   },
   "source": [
    "### Requirement FR9 - Filter out unnecessary rows"
   ]
  },
  {
   "cell_type": "code",
   "execution_count": null,
   "metadata": {
    "deletable": false
   },
   "outputs": [],
   "source": [
    "\n",
    "# Filter out irrelevant rows greater than 200000.\n",
    "merged_cd = merged_cd.drop_duplicates(subset = 'id_student')\n",
    "\n",
    "print(merged_cd['id_student'].duplicated().sum())\n",
    "\n",
    "# Remove duplicate rows based on id_student\n",
    "merged_cd = merged_cd.drop_duplicates(subset='id_student', keep='first')\n",
    "\n",
    "# Print the filtered data frame\n",
    "merged_cd\n"
   ]
  },
  {
   "cell_type": "markdown",
   "metadata": {
    "deletable": false
   },
   "source": [
    "<p style=\"color:red; font-weight:bold; font-size:xx-small\">MARK: __%</p>\n",
    "<p style=\"color:red; font-weight:bold; font-size:xx-small\">FEEDBACK: </p>"
   ]
  },
  {
   "cell_type": "markdown",
   "metadata": {
    "deletable": false
   },
   "source": [
    "### Requirement FR10 - Investigate the effects of engagement on attainment"
   ]
  },
  {
   "cell_type": "code",
   "execution_count": null,
   "metadata": {
    "deletable": false
   },
   "outputs": [],
   "source": [
    "import pandas as pd\n",
    "import matplotlib.pyplot as plt\n",
    "\n",
    "# Load the merged, cleaned, and filtered data into a data frame\n",
    "merged_cd = pd.merge(pd.read_csv('task2a.csv'), pd.read_csv('task2b.csv'), on='id_student')\n",
    "merged_cd = merged_cd.dropna()\n",
    "merged_cd = merged_cd.drop(['region', 'final_result', 'highest_education'], axis=1)\n",
    "merged_cd = merged_cd[merged_cd['click_events'] <= 20000]\n",
    "merged_cd = merged_cd.drop_duplicates(subset='id_student', keep='first')\n",
    "\n",
    "# Create a scatter plot of click_events vs. score\n",
    "plt.scatter(merged_cd['click_events'], merged_cd['score'])\n",
    "plt.xlabel('click_Events')\n",
    "plt.ylabel('Score')\n",
    "plt.title('Investigate the effects of engagement(click_events) on attainment (score)')\n",
    "plt.show()\n",
    "# From the scatter plot, we can see that there is a slight positive correlation between click_events and score, \n",
    "#meaning that as the level of engagement (click_events) increases, the level of attainment(score) also tends to increase.\n",
    "#However, the correlation is not very strong, and there are many data points that do not follow this trend.\n"
   ]
  },
  {
   "cell_type": "markdown",
   "metadata": {
    "deletable": false
   },
   "source": [
    "<p style=\"color:red; font-weight:bold; font-size:xx-small\">MARK: __%</p>\n",
    "<p style=\"color:red; font-weight:bold; font-size:xx-small\">FEEDBACK: </p>"
   ]
  },
  {
   "cell_type": "markdown",
   "metadata": {
    "deletable": false
   },
   "source": [
    "### Requirement FR11 - Test the hypothesis that engagement has some effect on levels of attainment "
   ]
  },
  {
   "cell_type": "code",
   "execution_count": null,
   "metadata": {
    "deletable": false
   },
   "outputs": [],
   "source": [
    "import pandas as pd\n",
    "from scipy.stats import pearsonr\n",
    "\n",
    "# Load the merged, cleaned, and filtered data into a data frame\n",
    "merged_cd = pd.merge(pd.read_csv('task2a.csv'), pd.read_csv('task2b.csv'), on='id_student')\n",
    "merged_cd = merged_cd.dropna()\n",
    "merged_cd = merged_cd.drop(['region', 'final_result', 'highest_education'], axis=1)\n",
    "merged_cd = merged_cd[merged_cd['click_events'] <= 20000]\n",
    "merged_cd = merged_cd.drop_duplicates(subset='id_student', keep='first')\n",
    "\n",
    "# Perform a Pearson correlation test between click events and score\n",
    "corr, p_value = pearsonr(merged_cd['click_events'], merged_cd['score'])\n",
    "print(f'Pearson correlation coefficient: {corr:.3f}')\n",
    "print(f'P-value: {p_value:.3f}')\n",
    "\n",
    "  #Check if p-value is less than 0.05\n",
    "if p_value < 0.05:\n",
    "    print(\"There is a statistically significant correlation between click_events and score.\")\n",
    "else:\n",
    "    print(\"There is insufficient evidence to support a correlation between click events and score.\")\n"
   ]
  },
  {
   "cell_type": "markdown",
   "metadata": {
    "deletable": false
   },
   "source": [
    "<p style=\"color:red; font-weight:bold; font-size:xx-small\">MARK: __%</p>\n",
    "<p style=\"color:red; font-weight:bold; font-size:xx-small\">FEEDBACK: </p>"
   ]
  },
  {
   "cell_type": "markdown",
   "metadata": {
    "deletable": false
   },
   "source": [
    "### Requirement FR12 - Investigate the effects of gender on levels of attainment "
   ]
  },
  {
   "cell_type": "code",
   "execution_count": null,
   "metadata": {
    "deletable": false
   },
   "outputs": [],
   "source": [
    "import seaborn as sns\n",
    "\n",
    "x='gender'\n",
    "y='score'\n",
    "sns.boxplot(x='gender', y='score', data=merged_cd)\n",
    "\n",
    "#explanations of my findings\n",
    "#from the box plot, the median score for females is slightly higher than for males,\n",
    "#and the interquartile range is also slightly larger for females\n",
    "#However, there is some overlap between the two boxes, \n",
    "#indicating that there is no clear-cut difference in attainment levels between the two genders\n",
    "#Therefore, we cannot conclude that gender has a significant effect on levels of attainment based on this visualization alone.\n"
   ]
  },
  {
   "cell_type": "markdown",
   "metadata": {
    "deletable": false
   },
   "source": [
    "<p style=\"color:red; font-weight:bold; font-size:xx-small\">MARK: __%</p>\n",
    "<p style=\"color:red; font-weight:bold; font-size:xx-small\">FEEDBACK: </p>"
   ]
  },
  {
   "cell_type": "markdown",
   "metadata": {
    "deletable": false
   },
   "source": [
    "### Requirement FR13 - Test if there is any difference between the attainment of male and female students"
   ]
  },
  {
   "cell_type": "code",
   "execution_count": null,
   "metadata": {
    "deletable": false
   },
   "outputs": [],
   "source": [
    "from scipy.stats import ttest_ind\n",
    "\n",
    "male_scores = merged_cd[merged_cd['gender'] == 'M']['score']\n",
    "female_scores = merged_cd[merged_cd['gender'] == 'F']['score']\n",
    "\n",
    "t_stat, p_val = ttest_ind(male_scores, female_scores)\n",
    "\n",
    "print(\"t-statistic:\", t_stat)\n",
    "print(\"p-value:\", p_val)\n",
    "\n",
    "#significance value\n",
    "As=0.05\n",
    " #Explanations to my results\n",
    "if p_val > As:\n",
    "    print(\"There is a significant difference between the attainment of male and female students.\")\n",
    "else:\n",
    "    print(\"There is no significant difference between the attainment of male and female students.\")"
   ]
  },
  {
   "cell_type": "markdown",
   "metadata": {
    "deletable": false
   },
   "source": [
    "<p style=\"color:red; font-weight:bold; font-size:xx-small\">MARK: __%</p>\n",
    "<p style=\"color:red; font-weight:bold; font-size:xx-small\">FEEDBACK: </p>"
   ]
  },
  {
   "cell_type": "markdown",
   "metadata": {
    "deletable": false
   },
   "source": [
    "# Coding Standards\n",
    "<p style=\"color:red; font-weight:bold; font-size:xx-small\">MARK: __%</p>\n",
    "<p style=\"color:red; font-weight:bold; font-size:xx-small\">FEEDBACK: </p>"
   ]
  },
  {
   "cell_type": "markdown",
   "metadata": {
    "deletable": false
   },
   "source": [
    "# Process Development Report for Programming Task C\n"
   ]
  },
  {
   "cell_type": "markdown",
   "metadata": {},
   "source": [
    "## INTRODUCTION\n",
    "The development process for this task involved several steps,which included reading in the data from two CSV files, merging them into a single dataframe, cleaning and filtering the data,\n",
    "Investigating the effects of engagement on attainment,\n",
    "Testing the hypothesis that engagement has some effect on levels of attainment ,investigating the effects of gender on levels of attainment and then testing if there is any difference between the attainment of male and female students.\n",
    "\n",
    "## PROCESS\n",
    "Firstly, I read in the data from the two CSV files using the pandas library. I then merged the two dataframes into a single dataframe based on the 'id_student' column.\n",
    "Next, I removed any rows from the merged data that contained a missing value in any column and removed the unnecessary columns such as region, final_result, and highest_education. I also filtered out unnecessary rows by removing all rows where click_event is greater than 20000 and any duplicate rows based on id_student.\n",
    "\n",
    "After cleaning and filtering the data, I proceeded to investigate the effects of engagement on attainment using a scatter plot. The scatter plot revealed a positive correlation between engagement and attainment. This suggests that students who have higher click events tend to have higher scores.\n",
    "I then tested the hypothesis that engagement has some effect on levels of attainment by performing a  Pearson correlation test between click_events and score.The results showed that there is a statistically significant relation between engagement and attainment.\n",
    "Afterwards, i investigated the effects of gender on levels of attainment using a box plot. The box plot showed if there is any difference in attainment between males and females. I then performed an independent t-test to determine if there is any difference between the attainment of male amd female students.And the results showed that there is a  significant difference in attainment between the  males and females students.\n",
    "\n",
    "Overall, the development process for this task was straightforward, and the pandas library made it easy to read in and manipulate the data. The use of visualisation tools such as scatter plots and box plots helped to identify patterns and trends in the data, while the t-test allowed for testing if there is any difference between the male and female students. \n",
    "\n",
    "One challenge that i faced during the development process was identifying and removing duplicate rows based on the 'id_student' column. It was necessary to do this to ensure that the data was accurate and that the results were not skewed by duplicate data. Another challenge was determining which columns were unnecessary and could be removed from the dataframe without losing valuable information.\n",
    "\n",
    "## CONCLUSION\n",
    "In conclusion, this task provided an opportunity to practice data cleaning, filtering, and manipulation, as well as data visualisation and statistical testing. Through this process, I gained valuable insights into the data and was able to draw meaningful conclusions about the effects of engagement and gender on levels of attainment.\n"
   ]
  },
  {
   "cell_type": "markdown",
   "metadata": {
    "deletable": false
   },
   "source": [
    "<p style=\"color:red; font-weight:bold; font-size:xx-small\">MARK: __%</p>\n",
    "<p style=\"color:red; font-weight:bold; font-size:xx-small\">FEEDBACK: </p>"
   ]
  }
 ],
 "metadata": {
  "kernelspec": {
   "display_name": "Python 3 (ipykernel)",
   "language": "python",
   "name": "python3"
  },
  "language_info": {
   "codemirror_mode": {
    "name": "ipython",
    "version": 3
   },
   "file_extension": ".py",
   "mimetype": "text/x-python",
   "name": "python",
   "nbconvert_exporter": "python",
   "pygments_lexer": "ipython3",
   "version": "3.9.13"
  }
 },
 "nbformat": 4,
 "nbformat_minor": 4
}
